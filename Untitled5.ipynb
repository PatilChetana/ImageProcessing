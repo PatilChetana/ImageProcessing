{
  "nbformat": 4,
  "nbformat_minor": 0,
  "metadata": {
    "colab": {
      "name": "Untitled5.ipynb",
      "provenance": [],
      "collapsed_sections": [],
      "authorship_tag": "ABX9TyOdvEXtLaEjahvM/NGHBdIW",
      "include_colab_link": true
    },
    "kernelspec": {
      "name": "python3",
      "display_name": "Python 3"
    }
  },
  "cells": [
    {
      "cell_type": "markdown",
      "metadata": {
        "id": "view-in-github",
        "colab_type": "text"
      },
      "source": [
        "<a href=\"https://colab.research.google.com/github/PatilChetana/ImageProcessing/blob/master/Untitled5.ipynb\" target=\"_parent\"><img src=\"https://colab.research.google.com/assets/colab-badge.svg\" alt=\"Open In Colab\"/></a>"
      ]
    },
    {
      "cell_type": "code",
      "metadata": {
        "id": "77gdw928OLZp",
        "colab_type": "code",
        "colab": {}
      },
      "source": [
        ""
      ],
      "execution_count": 0,
      "outputs": []
    },
    {
      "cell_type": "code",
      "metadata": {
        "id": "oEV2i2AVfR7Y",
        "colab_type": "code",
        "outputId": "73bac59e-e71c-4c6c-e2c1-aabb6de295d7",
        "colab": {
          "base_uri": "https://localhost:8080/",
          "height": 34
        }
      },
      "source": [
        "import pandas as pd\n",
        "import numpy as np \n",
        "import itertools\n",
        "import keras\n",
        "import tensorflow as tf\n",
        "#from sklearn import metrics\n",
        "#from sklearn.metrics import confusion_matrix\n",
        "from tensorflow.keras.preprocessing.image import ImageDataGenerator, img_to_array, load_img \n",
        "from tensorflow.keras.models import Sequential \n",
        "from tensorflow.keras import optimizers\n",
        "from tensorflow.keras.preprocessing import image\n",
        "from tensorflow.keras.layers import Dropout, Flatten, Dense \n",
        "from tensorflow.keras import applications \n",
        "from tensorflow.keras.utils import to_categorical \n",
        "#import matplotlib.pyplot as plt \n",
        "#import matplotlib.image as mpimg\n",
        "#%matplotlib inline\n",
        "import math \n",
        "import datetime\n",
        "import time\n",
        "\n",
        "\n",
        "\n",
        "#Default dimensions we found online\n",
        "img_width, img_height = 224, 224 \n",
        " \n",
        "#Create a bottleneck file\n",
        "top_model_weights_path = 'bottleneck_fc_model.h5'\n",
        "# loading up our datasets\n",
        "train_data_dir = 'training_set'\n",
        "validation_data_dir = 'validation_set' \n",
        "test_data_dir = 'test_set'\n",
        " \n",
        "# number of epochs to train top model \n",
        "epochs = 7 #this has been changed after multiple model run \n",
        "# batch size used by flow_from_directory and predict_generator \n",
        "batch_size = 50 \n",
        "\n",
        "\n",
        "\n",
        "#Loading vgc1model\n",
        "vgg16 = applications.VGG16(include_top=False, weights='imagenet')\n",
        "datagen = ImageDataGenerator(rescale=1. / 255) \n",
        "#needed to create the bottleneck .npy files\n",
        "print(\"chetana\")\n",
        "\n",
        "\n"
      ],
      "execution_count": 45,
      "outputs": [
        {
          "output_type": "stream",
          "text": [
            "chetana\n"
          ],
          "name": "stdout"
        }
      ]
    },
    {
      "cell_type": "code",
      "metadata": {
        "id": "jDZ_40LYRU-n",
        "colab_type": "code",
        "colab": {}
      },
      "source": [
        ""
      ],
      "execution_count": 0,
      "outputs": []
    },
    {
      "cell_type": "code",
      "metadata": {
        "id": "L_OketTv7qcL",
        "colab_type": "code",
        "outputId": "59dc1f09-ed7f-4db6-d68f-12edc03780fd",
        "colab": {
          "base_uri": "https://localhost:8080/",
          "height": 50
        }
      },
      "source": [
        " \n",
        "#training data\n",
        "generator_top = datagen.flow_from_directory( \n",
        "   validation_data_dir, \n",
        "   target_size=(img_width, img_height), \n",
        "   batch_size=batch_size, \n",
        "   class_mode='categorical', \n",
        "   shuffle=False) \n",
        " \n",
        "nb_train_samples = len(generator_top.filenames) \n",
        "num_classes = len(generator_top.class_indices) \n",
        " \n",
        "# load the bottleneck features saved earlier \n",
        "validation_data = np.load('bottleneck_features_validation.npy') \n",
        " \n",
        "# get the class labels for the training data, in the original order \n",
        "validation_labels = generator_top.classes \n",
        " \n",
        "# convert the training labels to categorical vectors \n",
        "validation_labels = to_categorical(validation_labels, num_classes=num_classes)\n",
        "print(\"validation\")"
      ],
      "execution_count": 46,
      "outputs": [
        {
          "output_type": "stream",
          "text": [
            "Found 291 images belonging to 6 classes.\n",
            "validation\n"
          ],
          "name": "stdout"
        }
      ]
    },
    {
      "cell_type": "code",
      "metadata": {
        "id": "G4fVBhHnRYdf",
        "colab_type": "code",
        "colab": {
          "base_uri": "https://localhost:8080/",
          "height": 50
        },
        "outputId": "0cc9195f-2df5-4397-b13a-b540acc58e36"
      },
      "source": [
        "#training data\n",
        "generator_top = datagen.flow_from_directory( \n",
        "   train_data_dir, \n",
        "   target_size=(img_width, img_height), \n",
        "   batch_size=batch_size, \n",
        "   class_mode='categorical', \n",
        "   shuffle=False) \n",
        " \n",
        "nb_train_samples = len(generator_top.filenames) \n",
        "num_classes = len(generator_top.class_indices) \n",
        " \n",
        "# load the bottleneck features saved earlier \n",
        "train_data = np.load('bottleneck_features_train.npy') \n",
        " \n",
        "# get the class labels for the training data, in the original order \n",
        "train_labels = generator_top.classes \n",
        " \n",
        "# convert the training labels to categorical vectors \n",
        "train_labels = to_categorical(train_labels, num_classes=num_classes)\n",
        "print(\"train\")"
      ],
      "execution_count": 47,
      "outputs": [
        {
          "output_type": "stream",
          "text": [
            "Found 2971 images belonging to 6 classes.\n",
            "train\n"
          ],
          "name": "stdout"
        }
      ]
    },
    {
      "cell_type": "code",
      "metadata": {
        "id": "AfUcYFR3eviy",
        "colab_type": "code",
        "colab": {
          "base_uri": "https://localhost:8080/",
          "height": 319
        },
        "outputId": "95991e0d-aba3-4d85-d4ae-3a993751ba5d"
      },
      "source": [
        "#Creating our Convolutional Neural Network code:\n",
        "\n",
        "start = datetime.datetime.now()\n",
        "model = Sequential() \n",
        "model.add(Flatten(input_shape=train_data.shape[1:])) \n",
        "model.add(Dense(100, activation=tf.keras.layers.LeakyReLU(alpha=0.3))) \n",
        "model.add(Dropout(0.5)) \n",
        "model.add(Dense(50, activation=tf.keras.layers.LeakyReLU(alpha=0.3))) \n",
        "model.add(Dropout(0.3)) \n",
        "model.add(Dense(num_classes, activation='softmax'))\n",
        "model.compile(loss='categorical_crossentropy',\n",
        "   optimizer=optimizers.RMSprop(lr=1e-4),\n",
        "   metrics=['acc'])\n",
        "history = model.fit(train_data, train_labels, \n",
        "   epochs=7,\n",
        "   batch_size=batch_size, \n",
        "   validation_data=(validation_data, validation_labels))\n",
        "model.save_weights(top_model_weights_path)\n",
        "(eval_loss, eval_accuracy) = model.evaluate( \n",
        "    validation_data, validation_labels, batch_size=batch_size,     verbose=1)\n",
        "print(\"[INFO] accuracy: {:.2f}%\".format(eval_accuracy * 100)) \n",
        "print(\"[INFO] Loss: {}\".format(eval_loss)) \n",
        "end= datetime.datetime.now()\n",
        "elapsed= end-start\n",
        "print ('Time: ', elapsed)\n",
        "\n"
      ],
      "execution_count": 48,
      "outputs": [
        {
          "output_type": "stream",
          "text": [
            "Epoch 1/7\n",
            "60/60 [==============================] - 2s 33ms/step - loss: 1.3392 - acc: 0.4743 - val_loss: 0.9892 - val_acc: 0.6289\n",
            "Epoch 2/7\n",
            "60/60 [==============================] - 2s 31ms/step - loss: 0.9165 - acc: 0.6624 - val_loss: 0.8664 - val_acc: 0.6907\n",
            "Epoch 3/7\n",
            "60/60 [==============================] - 2s 30ms/step - loss: 0.7666 - acc: 0.7294 - val_loss: 0.7302 - val_acc: 0.7388\n",
            "Epoch 4/7\n",
            "60/60 [==============================] - 2s 31ms/step - loss: 0.6602 - acc: 0.7634 - val_loss: 0.7450 - val_acc: 0.7079\n",
            "Epoch 5/7\n",
            "60/60 [==============================] - 2s 31ms/step - loss: 0.5915 - acc: 0.7957 - val_loss: 0.6444 - val_acc: 0.7732\n",
            "Epoch 6/7\n",
            "60/60 [==============================] - 2s 31ms/step - loss: 0.5184 - acc: 0.8263 - val_loss: 0.7118 - val_acc: 0.7423\n",
            "Epoch 7/7\n",
            "60/60 [==============================] - 2s 30ms/step - loss: 0.4720 - acc: 0.8354 - val_loss: 0.7289 - val_acc: 0.7354\n",
            "6/6 [==============================] - 0s 6ms/step - loss: 0.7289 - acc: 0.7354\n",
            "[INFO] accuracy: 73.54%\n",
            "[INFO] Loss: 0.7288683652877808\n",
            "Time:  0:00:13.940700\n"
          ],
          "name": "stdout"
        }
      ]
    },
    {
      "cell_type": "code",
      "metadata": {
        "id": "mbDdiNJPhWU4",
        "colab_type": "code",
        "colab": {
          "base_uri": "https://localhost:8080/",
          "height": 330
        },
        "outputId": "b3421f47-961a-4204-fa1c-7b8611eddd31"
      },
      "source": [
        "def read_image(file_path):\n",
        "   print(\"[INFO] loading and preprocessing image…\") \n",
        "   image = load_img(file_path, target_size=(224, 224)) \n",
        "   image = img_to_array(image) \n",
        "   image = np.expand_dims(image, axis=0)\n",
        "   image /= 255. \n",
        "   return image\n",
        "def test_single_image(path):\n",
        "  animals = ['Cyclone','Earthquake','Fire','Flood','Smoke','WildFire']\n",
        "  images = read_image(path)\n",
        "  time.sleep(.5)\n",
        "  bt_prediction = vgg16.predict(images) \n",
        "  preds = model.predict_proba(bt_prediction)\n",
        "  for idx, animal, x in zip(range(0,6), animals , preds[0]):\n",
        "   print(\"ID: {}, Label: {} {}%\".format(idx, animal, round(x*100,2) ))\n",
        "  print('Final Decision:')\n",
        "  time.sleep(.5)\n",
        "  for x in range(3):\n",
        "   print('.'*(x+1))\n",
        "   time.sleep(.2)\n",
        "  class_predicted = model.predict_classes(bt_prediction)\n",
        "  class_dictionary = generator_top.class_indices \n",
        "  inv_map = {v: k for k, v in class_dictionary.items()} \n",
        "  print(\"ID: {}, Label: {}\".format(class_predicted[0],  inv_map[class_predicted[0]])) \n",
        "  return load_img(path)\n",
        "\n",
        "#path = 'cyclone_sample.jpg'\n",
        "path='fire_sample.jpg'\n",
        "test_single_image(path)\n"
      ],
      "execution_count": 51,
      "outputs": [
        {
          "output_type": "stream",
          "text": [
            "[INFO] loading and preprocessing image…\n",
            "ID: 0, Label: Cyclone 0.02%\n",
            "ID: 1, Label: Earthquake 0.01%\n",
            "ID: 2, Label: Fire 96.74%\n",
            "ID: 3, Label: Flood 0.8%\n",
            "ID: 4, Label: Smoke 2.3%\n",
            "ID: 5, Label: WildFire 0.13%\n",
            "Final Decision:\n",
            ".\n",
            "..\n",
            "...\n",
            "ID: 2, Label: Fire\n"
          ],
          "name": "stdout"
        },
        {
          "output_type": "execute_result",
          "data": {
            "image/png": "[encoded data removed]",
            "text/plain": [
              "<PIL.JpegImagePlugin.JpegImageFile image mode=RGB size=112x112 at 0x7FCF81599630>"
            ]
          },
          "metadata": {
            "tags": []
          },
          "execution_count": 51
        }
      ]
    }
  ]
}